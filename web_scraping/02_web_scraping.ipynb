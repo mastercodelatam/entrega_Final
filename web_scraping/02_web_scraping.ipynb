{
 "cells": [
  {
   "cell_type": "markdown",
   "metadata": {},
   "source": [
    "# Web Scraping con Beautiful Soup\n",
    "\n",
    "* * * \n",
    "\n",
    "### Iconos usados en este notebook\n",
    "🔔 **Pregunta**: Una pregunta rápida para ayudarte a entender qué está pasando.<br>\n",
    "🥊 **Desafío**: Ejercicio interactivo. ¡Lo resolveremos en el taller!<br>\n",
    "⚠️ **Advertencia**: Atención sobre aspectos complicados o errores comunes.<br>\n",
    "💡 **Consejo**: Cómo hacer algo de forma más eficiente o efectiva.<br>\n",
    "🎬 **Demostración**: ¡Mostrando algo más avanzado para que sepas para qué se puede usar Python!<br>\n",
    "\n",
    "### Objetivos de aprendizaje\n",
    "1. [Reflexión: ¿Extraer o no extraer?](#when)\n",
    "2. [Extraer y analizar HTML](#extract)\n",
    "3. [Extraer la Asamblea General de Illinois](#scrape)"
   ]
  },
  {
   "cell_type": "markdown",
   "metadata": {},
   "source": [
    "<a id='when'></a>\n",
    "\n",
    "# Scrapear O No Scrapear\n",
    "\n",
    "Cuando queremos acceder a datos de la web, primero debemos asegurarnos de que el sitio web que nos interesa ofrezca una API web. Plataformas como Twitter, Reddit y The New York Times ofrecen API. **Consulta las [API web de Python] de D-Lab.\n",
    "(https://github.com/dlab-berkeley/Python-Web-APIs) si tu necesitas puedes aprender a usar APIs.**\n",
    "\n",
    "Sin embargo, a menudo no existe una API web. En estos casos, podemos recurrir al web scraping, donde extraemos el HTML subyacente de una página web y obtenemos directamente la información deseada. Existen varios paquetes en Python que podemos usar para realizar estas tareas. Nos centraremos en dos paquetes: Requests y Beautiful Soup.\n",
    "\n",
    "Nuestro estudio de caso recopilará información sobre los senadores estatales de Illinois (http://www.ilga.gov/senate), así como la lista de proyectos de ley patrocinados por cada senador. Antes de comenzar, revise estos sitios web para conocer su estructura."
   ]
  },
  {
   "cell_type": "markdown",
   "metadata": {},
   "source": [
    "## Instalacion\n",
    "\n",
    "Usaremos dos paquetes principales: [Requisitos](http://docs.python-requests.org/en/latest/user/quickstart/) y [Beautiful Soup](http://www.crummy.com/software/BeautifulSoup/bs4/doc/). Continúe instalando estos paquetes, si aún no lo ha hecho:"
   ]
  },
  {
   "cell_type": "code",
   "execution_count": 118,
   "metadata": {},
   "outputs": [
    {
     "name": "stdout",
     "output_type": "stream",
     "text": [
      "Requirement already satisfied: requests in c:\\python312\\lib\\site-packages (2.32.3)\n",
      "Requirement already satisfied: charset-normalizer<4,>=2 in c:\\python312\\lib\\site-packages (from requests) (3.4.1)\n",
      "Requirement already satisfied: idna<4,>=2.5 in c:\\python312\\lib\\site-packages (from requests) (3.10)\n",
      "Requirement already satisfied: urllib3<3,>=1.21.1 in c:\\python312\\lib\\site-packages (from requests) (2.3.0)\n",
      "Requirement already satisfied: certifi>=2017.4.17 in c:\\python312\\lib\\site-packages (from requests) (2025.1.31)\n",
      "Note: you may need to restart the kernel to use updated packages.\n"
     ]
    },
    {
     "name": "stderr",
     "output_type": "stream",
     "text": [
      "WARNING: Ignoring invalid distribution ~ip (c:\\Python312\\Lib\\site-packages)\n",
      "WARNING: Ignoring invalid distribution ~ip (c:\\Python312\\Lib\\site-packages)\n",
      "WARNING: Ignoring invalid distribution ~ip (c:\\Python312\\Lib\\site-packages)\n",
      "WARNING: Ignoring invalid distribution ~ip (c:\\Python312\\Lib\\site-packages)\n",
      "\n",
      "[notice] A new release of pip is available: 24.2 -> 25.0.1\n",
      "[notice] To update, run: python.exe -m pip install --upgrade pip\n"
     ]
    }
   ],
   "source": [
    "%pip install requests"
   ]
  },
  {
   "cell_type": "code",
   "execution_count": 119,
   "metadata": {},
   "outputs": [
    {
     "name": "stdout",
     "output_type": "stream",
     "text": [
      "Requirement already satisfied: beautifulsoup4 in c:\\python312\\lib\\site-packages (4.13.3)\n",
      "Requirement already satisfied: soupsieve>1.2 in c:\\python312\\lib\\site-packages (from beautifulsoup4) (2.6)\n",
      "Requirement already satisfied: typing-extensions>=4.0.0 in c:\\python312\\lib\\site-packages (from beautifulsoup4) (4.12.2)\n",
      "Note: you may need to restart the kernel to use updated packages.\n"
     ]
    },
    {
     "name": "stderr",
     "output_type": "stream",
     "text": [
      "WARNING: Ignoring invalid distribution ~ip (c:\\Python312\\Lib\\site-packages)\n",
      "WARNING: Ignoring invalid distribution ~ip (c:\\Python312\\Lib\\site-packages)\n",
      "WARNING: Ignoring invalid distribution ~ip (c:\\Python312\\Lib\\site-packages)\n",
      "WARNING: Ignoring invalid distribution ~ip (c:\\Python312\\Lib\\site-packages)\n",
      "\n",
      "[notice] A new release of pip is available: 24.2 -> 25.0.1\n",
      "[notice] To update, run: python.exe -m pip install --upgrade pip\n"
     ]
    }
   ],
   "source": [
    "%pip install beautifulsoup4"
   ]
  },
  {
   "cell_type": "markdown",
   "metadata": {},
   "source": [
    "También instalaremos el paquete `lxml`, que ayuda a soportar parte del análisis que realiza Beautiful Soup:"
   ]
  },
  {
   "cell_type": "code",
   "execution_count": 120,
   "metadata": {},
   "outputs": [
    {
     "name": "stdout",
     "output_type": "stream",
     "text": [
      "Requirement already satisfied: requests in c:\\python312\\lib\\site-packages (2.32.3)\n",
      "Requirement already satisfied: charset-normalizer<4,>=2 in c:\\python312\\lib\\site-packages (from requests) (3.4.1)\n",
      "Requirement already satisfied: idna<4,>=2.5 in c:\\python312\\lib\\site-packages (from requests) (3.10)\n",
      "Requirement already satisfied: urllib3<3,>=1.21.1 in c:\\python312\\lib\\site-packages (from requests) (2.3.0)\n",
      "Requirement already satisfied: certifi>=2017.4.17 in c:\\python312\\lib\\site-packages (from requests) (2025.1.31)\n",
      "Note: you may need to restart the kernel to use updated packages.\n"
     ]
    },
    {
     "name": "stderr",
     "output_type": "stream",
     "text": [
      "WARNING: Ignoring invalid distribution ~ip (c:\\Python312\\Lib\\site-packages)\n",
      "WARNING: Ignoring invalid distribution ~ip (c:\\Python312\\Lib\\site-packages)\n",
      "WARNING: Ignoring invalid distribution ~ip (c:\\Python312\\Lib\\site-packages)\n",
      "WARNING: Ignoring invalid distribution ~ip (c:\\Python312\\Lib\\site-packages)\n",
      "\n",
      "[notice] A new release of pip is available: 24.2 -> 25.0.1\n",
      "[notice] To update, run: python.exe -m pip install --upgrade pip\n"
     ]
    }
   ],
   "source": [
    "%pip install requests\n"
   ]
  },
  {
   "cell_type": "code",
   "execution_count": 121,
   "metadata": {},
   "outputs": [
    {
     "name": "stdout",
     "output_type": "stream",
     "text": [
      "Requirement already satisfied: lxml in c:\\python312\\lib\\site-packages (5.3.1)\n",
      "Note: you may need to restart the kernel to use updated packages.\n"
     ]
    },
    {
     "name": "stderr",
     "output_type": "stream",
     "text": [
      "WARNING: Ignoring invalid distribution ~ip (c:\\Python312\\Lib\\site-packages)\n",
      "WARNING: Ignoring invalid distribution ~ip (c:\\Python312\\Lib\\site-packages)\n",
      "WARNING: Ignoring invalid distribution ~ip (c:\\Python312\\Lib\\site-packages)\n",
      "WARNING: Ignoring invalid distribution ~ip (c:\\Python312\\Lib\\site-packages)\n",
      "\n",
      "[notice] A new release of pip is available: 24.2 -> 25.0.1\n",
      "[notice] To update, run: python.exe -m pip install --upgrade pip\n"
     ]
    }
   ],
   "source": [
    "%pip install lxml"
   ]
  },
  {
   "cell_type": "code",
   "execution_count": 122,
   "metadata": {
    "tags": []
   },
   "outputs": [],
   "source": [
    "# Importacion de librerias requeridas\n",
    "from bs4 import BeautifulSoup\n",
    "from datetime import datetime\n",
    "import requests\n",
    "import time"
   ]
  },
  {
   "cell_type": "markdown",
   "metadata": {},
   "source": [
    "<a id='extract'></a>\n",
    "\n",
    "# Extracción y análisis de HTML\n",
    "\n",
    "\n",
    "Para extraer y analizar HTML correctamente, seguiremos los siguientes 4 pasos:\n",
    "1. Realizar una solicitud GET\n",
    "2. Analizar la página con Beautiful Soup\n",
    "3. Buscar elementos HTML\n",
    "4. Obtener los atributos y el texto de estos elementos"
   ]
  },
  {
   "cell_type": "markdown",
   "metadata": {},
   "source": [
    "## Paso 1: Realizar una solicitud GET para obtener el HTML de una página\n",
    "\n",
    "\n",
    "Podemos usar la biblioteca de solicitudes para:\n",
    "\n",
    "1. Realizar una solicitud GET a la página y\n",
    "2. Leer el código HTML de la página web.\n",
    "\n",
    "El proceso de realizar una solicitud y obtener un resultado es similar al del flujo de trabajo de la API web. Sin embargo, ahora realizamos una solicitud directamente al sitio web y tendremos que analizar el HTML nosotros mismos. Esto contrasta con recibir datos organizados en una salida JSON o XML más sencilla."
   ]
  },
  {
   "cell_type": "code",
   "execution_count": 123,
   "metadata": {
    "tags": []
   },
   "outputs": [
    {
     "name": "stdout",
     "output_type": "stream",
     "text": [
      "<html lang=\"en\"> \n",
      "<!-- Trigger/Open The Modal -->\n",
      "<div style=\"position: fixed; z-index: 999; top: 5; left: 600; background-color: navy; display: block\">\n",
      "<button id=\"myBtn\" style=\"color: white; background-color: navy; display: block\">Translate Website</button></div>\n",
      "<!-- The Modal -->\n",
      "<div id=\"myModal\" class=\"modal\" style=\"display: none\">\n",
      "  <!-- Modal content -->\n",
      "  <div class=\"modal-content\">\n",
      "      <div class=\"modal-header\"><h3>\n",
      "    <span class=\"close\">&times;</span></h3></div>    \n",
      "    <p>The Illinois General Assembly offers the Google Translate service for visitor convenience. In no way should it be considered accurate as to the translation of any content herein.</p>\n",
      "    <p>Visitors of the Illinois General Assembly website are encouraged to use other translation services available on the internet.</p>\n",
      "    <p>The English language version is always the official and authoritative version of this website.</p>\n",
      "    <p>NOTE: To return to the original English language version, se\n"
     ]
    }
   ],
   "source": [
    "# Realizar una solicitud GET\n",
    "req = requests.get('http://www.ilga.gov/senate/default.asp')\n",
    "# Leer el contenido de la respuesta del servidor\n",
    "src = req.text\n",
    "# Ver algunos resultados\n",
    "print(src[:1000])"
   ]
  },
  {
   "cell_type": "markdown",
   "metadata": {},
   "source": [
    "## Paso 2: Analiza la página con Beautiful Soup\n",
    "\n",
    "Ahora, usamos la función `BeautifulSoup` para analizar la respuesta en un árbol HTML. Esto devuelve un objeto (llamado **objeto soup**) que contiene todo el HTML del documento original.\n",
    "\n",
    "Si se produce un error relacionado con una biblioteca de análisis, asegúrese de haber instalado el paquete `lxml` para que Beautiful Soup cuente con las herramientas de análisis necesarias."
   ]
  },
  {
   "cell_type": "code",
   "execution_count": 124,
   "metadata": {},
   "outputs": [
    {
     "name": "stdout",
     "output_type": "stream",
     "text": [
      "<html lang=\"en\">\n",
      " <!-- Trigger/Open The Modal -->\n",
      " <body>\n",
      "  <div style=\"position: fixed; z-index: 999; top: 5; left: 600; background-color: navy; display: block\">\n",
      "   <button id=\"myBtn\" style=\"color: white; background-color: navy; display: block\">\n",
      "    Translate Website\n",
      "   </button>\n",
      "  </div>\n",
      "  <!-- The Modal -->\n",
      "  <div class=\"modal\" id=\"myModal\" style=\"display: none\">\n",
      "   <!-- Modal content -->\n",
      "   <div class=\"modal-content\">\n",
      "    <div class=\"modal-header\">\n",
      "     <h3>\n",
      "      <span class=\"close\">\n",
      "       ×\n",
      "      </span>\n",
      "     </h3>\n",
      "    </div>\n",
      "    <p>\n",
      "     The Illinois General Assembly offers the Google Translate service for visitor convenience. In no way should it be considered accurate as to the translation of any content herein.\n",
      "    </p>\n",
      "    <p>\n",
      "     Visitors of the Illinois General Assembly website are encouraged to use other translation services available on the internet.\n",
      "    </p>\n",
      "    <p>\n",
      "     The English language version is always the official and authoritative version of this website.\n",
      "   \n"
     ]
    }
   ],
   "source": [
    "# Parse the response into an HTML tree\n",
    "soup = BeautifulSoup(src, 'lxml')\n",
    "# Take a look\n",
    "print(soup.prettify()[:1000])"
   ]
  },
  {
   "cell_type": "markdown",
   "metadata": {},
   "source": [
    "Ahora, usamos la función `BeautifulSoup` para analizar la respuesta en un árbol HTML. Esto devuelve un objeto (llamado **objeto soup**) que contiene todo el HTML del documento original.\n",
    "\n",
    "El resultado es bastante similar al anterior, pero ahora está organizado en un objeto `soup`, lo que nos permite navegar por la página con mayor facilidad."
   ]
  },
  {
   "cell_type": "markdown",
   "metadata": {},
   "source": [
    "## Paso 3: Buscar elementos HTML\n",
    "\n",
    "\n",
    "Beautiful Soup cuenta con varias funciones para encontrar componentes útiles en una página. Beautiful Soup permite encontrar elementos por:\n",
    "\n",
    "1. Etiquetas HTML\n",
    "2. Atributos HTML\n",
    "3. Selectores CSS\n",
    "\n",
    "Primero, busquemos **etiquetas HTML**.\n",
    "\n",
    "La función `find_all` busca en el árbol `soup` todos los elementos con una etiqueta HTML específica y los devuelve.\n",
    "\n",
    "¿Qué hace el siguiente ejemplo?"
   ]
  },
  {
   "cell_type": "code",
   "execution_count": 125,
   "metadata": {},
   "outputs": [
    {
     "name": "stdout",
     "output_type": "stream",
     "text": [
      "[<a class=\"goog-logo-link\" href=\"https://translate.google.com\" target=\"_blank\"><img alt=\"Google Translate\" height=\"14\" src=\"https://www.gstatic.com/images/branding/googlelogo/1x/googlelogo_color_42x16dp.png\" style=\"padding-right: 3px;\" width=\"37\"/>Translate</a>, <a href=\"/default.asp\"><img alt=\"Illinois General Assembly\" border=\"0\" height=\"49\" src=\"/images/logo_sm.gif\" width=\"462\"/></a>, <a class=\"mainmenu\" href=\"/\">Home</a>, <a class=\"mainmenu\" href=\"/legislation/\" onblur=\"HM_f_PopDown('elMenu1')\" onfocus=\"HM_f_PopUp('elMenu1',event)\" onmouseout=\"HM_f_PopDown('elMenu1')\" onmouseover=\"HM_f_PopUp('elMenu1',event)\">Legislation &amp; Laws</a>, <a class=\"mainmenu\" href=\"/senate/\" onblur=\"HM_f_PopDown('elMenu3')\" onfocus=\"HM_f_PopUp('elMenu3',event)\" onmouseout=\"HM_f_PopDown('elMenu3')\" onmouseover=\"HM_f_PopUp('elMenu3',event)\">Senate</a>, <a class=\"mainmenu\" href=\"/house/\" onblur=\"HM_f_PopDown('elMenu2')\" onfocus=\"HM_f_PopUp('elMenu2',event)\" onmouseout=\"HM_f_PopDown('elMenu2')\" onmouseover=\"HM_f_PopUp('elMenu2',event)\">House</a>, <a class=\"mainmenu\" href=\"/mylegislation/\" onblur=\"HM_f_PopDown('elMenu4')\" onfocus=\"HM_f_PopUp('elMenu4',event)\" onmouseout=\"HM_f_PopDown('elMenu4')\" onmouseover=\"HM_f_PopUp('elMenu4',event)\">My Legislation</a>, <a class=\"mainmenu\" href=\"/sitemap.asp\">Site Map</a>, <a class=\"sidemenu\" href=\"/senate/default.asp\">  Members  </a>, <a class=\"sidemenu\" href=\"/senate/committees/default.asp\">  Committees  </a>]\n"
     ]
    }
   ],
   "source": [
    "# Find all elements with a certain tag\n",
    "a_tags = soup.find_all(\"a\")\n",
    "print(a_tags[:10])"
   ]
  },
  {
   "cell_type": "markdown",
   "metadata": {},
   "source": [
    "Dado que `find_all()` es el método más popular en la API de búsqueda de Beautiful Soup, puedes usar un atajo. Si tratas el objeto BeautifulSoup como si fuera una función, es lo mismo que llamar a `find_all()` en ese objeto.\n",
    "\n",
    "Estas dos líneas de código son equivalentes:"
   ]
  },
  {
   "cell_type": "code",
   "execution_count": 126,
   "metadata": {
    "tags": []
   },
   "outputs": [
    {
     "name": "stdout",
     "output_type": "stream",
     "text": [
      "<a class=\"goog-logo-link\" href=\"https://translate.google.com\" target=\"_blank\"><img alt=\"Google Translate\" height=\"14\" src=\"https://www.gstatic.com/images/branding/googlelogo/1x/googlelogo_color_42x16dp.png\" style=\"padding-right: 3px;\" width=\"37\"/>Translate</a>\n",
      "<a class=\"goog-logo-link\" href=\"https://translate.google.com\" target=\"_blank\"><img alt=\"Google Translate\" height=\"14\" src=\"https://www.gstatic.com/images/branding/googlelogo/1x/googlelogo_color_42x16dp.png\" style=\"padding-right: 3px;\" width=\"37\"/>Translate</a>\n"
     ]
    }
   ],
   "source": [
    "a_tags = soup.find_all(\"a\")\n",
    "a_tags_alt = soup(\"a\")\n",
    "print(a_tags[0])\n",
    "print(a_tags_alt[0])"
   ]
  },
  {
   "cell_type": "markdown",
   "metadata": {},
   "source": [
    "¿Cuántos enlaces obtuvimos?"
   ]
  },
  {
   "cell_type": "code",
   "execution_count": 127,
   "metadata": {},
   "outputs": [
    {
     "name": "stdout",
     "output_type": "stream",
     "text": [
      "213\n"
     ]
    }
   ],
   "source": [
    "print(len(a_tags))"
   ]
  },
  {
   "cell_type": "markdown",
   "metadata": {},
   "source": [
    "¡Eso es muchísimo! Muchos elementos de una página tendrán la misma etiqueta HTML. Por ejemplo, si buscas todo con la etiqueta `a`, probablemente obtendrás más resultados, muchos de los cuales quizás no quieras. Recuerda que la etiqueta `a` define un hipervínculo, por lo que normalmente encontrarás muchos en cualquier página.\n",
    "\n",
    "¿Qué sucedería si quisiéramos buscar etiquetas HTML con ciertos atributos, como clases CSS específicas?\n",
    "\n",
    "Podemos hacerlo añadiendo un argumento adicional a `find_all`. En el siguiente ejemplo, buscamos todas las etiquetas `a` y luego las filtramos con `class_=\"sidemenu\"`."
   ]
  },
  {
   "cell_type": "code",
   "execution_count": 128,
   "metadata": {
    "tags": []
   },
   "outputs": [
    {
     "data": {
      "text/plain": [
       "[<a class=\"sidemenu\" href=\"/senate/default.asp\">  Members  </a>,\n",
       " <a class=\"sidemenu\" href=\"/senate/committees/default.asp\">  Committees  </a>,\n",
       " <a class=\"sidemenu\" href=\"/senate/schedules/default.asp\">  Schedules  </a>,\n",
       " <a class=\"sidemenu\" href=\"/senate/journals/default.asp\">  Journals  </a>,\n",
       " <a class=\"sidemenu\" href=\"/senate/transcripts/default.asp\">  Transcripts  </a>]"
      ]
     },
     "execution_count": 128,
     "metadata": {},
     "output_type": "execute_result"
    }
   ],
   "source": [
    "# Get only the 'a' tags in 'sidemenu' class\n",
    "side_menus = soup(\"a\", class_=\"sidemenu\")\n",
    "side_menus[:5]"
   ]
  },
  {
   "cell_type": "markdown",
   "metadata": {},
   "source": [
    "¡Eso es muchísimo! Muchos elementos de una página tendrán la misma etiqueta HTML. Por ejemplo, si buscas todo con la etiqueta `a`, probablemente obtendrás más resultados, muchos de los cuales quizás no desees. Recuerda que la etiqueta `a` define un hipervínculo, por lo que normalmente encontrarás muchos en cualquier página.\n",
    "\n",
    "¿Qué sucedería si quisiéramos buscar etiquetas HTML con ciertos atributos, como clases CSS específicas?\n",
    "\n",
    "Una forma más eficiente de buscar elementos en un sitio web es mediante un **selector CSS**. Para ello, debemos usar un método diferente llamado `select()`. Simplemente pasa una cadena a `.select()` para obtener todos los elementos con esa cadena como un selector CSS válido.\n",
    "\n",
    "En el ejemplo anterior, podemos usar `\"a.sidemenu\"` como selector CSS, que devuelve todas las etiquetas `a` con la clase `sidemenu`."
   ]
  },
  {
   "cell_type": "code",
   "execution_count": 129,
   "metadata": {
    "tags": []
   },
   "outputs": [
    {
     "data": {
      "text/plain": [
       "[<a class=\"sidemenu\" href=\"/senate/default.asp\">  Members  </a>,\n",
       " <a class=\"sidemenu\" href=\"/senate/committees/default.asp\">  Committees  </a>,\n",
       " <a class=\"sidemenu\" href=\"/senate/schedules/default.asp\">  Schedules  </a>,\n",
       " <a class=\"sidemenu\" href=\"/senate/journals/default.asp\">  Journals  </a>,\n",
       " <a class=\"sidemenu\" href=\"/senate/transcripts/default.asp\">  Transcripts  </a>]"
      ]
     },
     "execution_count": 129,
     "metadata": {},
     "output_type": "execute_result"
    }
   ],
   "source": [
    "# Get elements with \"a.sidemenu\" CSS Selector.\n",
    "selected = soup.select(\"a.sidemenu\")\n",
    "selected[:5]"
   ]
  },
  {
   "cell_type": "markdown",
   "metadata": {},
   "source": [
    "## 🥊 Desafío: Encontrar todo\n",
    "\n",
    "Usa BeautifulSoup para encontrar todos los elementos `a` con la clase `mainmenu`."
   ]
  },
  {
   "cell_type": "code",
   "execution_count": 130,
   "metadata": {},
   "outputs": [
    {
     "name": "stdout",
     "output_type": "stream",
     "text": [
      "[<a class=\"mainmenu\" href=\"/\">Home</a>, <a class=\"mainmenu\" href=\"/legislation/\" onblur=\"HM_f_PopDown('elMenu1')\" onfocus=\"HM_f_PopUp('elMenu1',event)\" onmouseout=\"HM_f_PopDown('elMenu1')\" onmouseover=\"HM_f_PopUp('elMenu1',event)\">Legislation &amp; Laws</a>, <a class=\"mainmenu\" href=\"/senate/\" onblur=\"HM_f_PopDown('elMenu3')\" onfocus=\"HM_f_PopUp('elMenu3',event)\" onmouseout=\"HM_f_PopDown('elMenu3')\" onmouseover=\"HM_f_PopUp('elMenu3',event)\">Senate</a>, <a class=\"mainmenu\" href=\"/house/\" onblur=\"HM_f_PopDown('elMenu2')\" onfocus=\"HM_f_PopUp('elMenu2',event)\" onmouseout=\"HM_f_PopDown('elMenu2')\" onmouseover=\"HM_f_PopUp('elMenu2',event)\">House</a>, <a class=\"mainmenu\" href=\"/mylegislation/\" onblur=\"HM_f_PopDown('elMenu4')\" onfocus=\"HM_f_PopUp('elMenu4',event)\" onmouseout=\"HM_f_PopDown('elMenu4')\" onmouseover=\"HM_f_PopUp('elMenu4',event)\">My Legislation</a>]\n"
     ]
    }
   ],
   "source": [
    "# Encontrar todos los elementos <a> con la clase 'mainmenu'\n",
    "mainmenu_links = soup.find_all(\"a\", class_=\"mainmenu\")\n",
    "\n",
    "# Mostrar los primeros 5 elementos encontrados\n",
    "print(mainmenu_links[:5])"
   ]
  },
  {
   "cell_type": "markdown",
   "metadata": {},
   "source": [
    "## Paso 4: Obtener los atributos y el texto de los elementos\n",
    "\n",
    "Una vez identificados los elementos, necesitamos la información de acceso de cada uno. Normalmente, esto implica dos cosas:\n",
    "\n",
    "1. Texto\n",
    "2. Atributos\n",
    "\n",
    "Obtener el texto dentro de un elemento es sencillo. Solo tenemos que usar el miembro `text` de un objeto `tag`:"
   ]
  },
  {
   "cell_type": "code",
   "execution_count": 131,
   "metadata": {
    "tags": []
   },
   "outputs": [
    {
     "name": "stdout",
     "output_type": "stream",
     "text": [
      "<a class=\"sidemenu\" href=\"/senate/default.asp\">  Members  </a>\n",
      "Class:  <class 'bs4.element.Tag'>\n"
     ]
    }
   ],
   "source": [
    "# Get all sidemenu links as a list\n",
    "side_menu_links = soup.select(\"a.sidemenu\")\n",
    "\n",
    "# Examine the first link\n",
    "first_link = side_menu_links[0]\n",
    "print(first_link)\n",
    "\n",
    "# What class is this variable?\n",
    "print('Class: ', type(first_link))"
   ]
  },
  {
   "cell_type": "markdown",
   "metadata": {},
   "source": [
    "¡Es una etiqueta de Beautiful Soup! Esto significa que tiene un miembro \"texto\":"
   ]
  },
  {
   "cell_type": "code",
   "execution_count": 132,
   "metadata": {
    "tags": []
   },
   "outputs": [
    {
     "name": "stdout",
     "output_type": "stream",
     "text": [
      "  Members  \n"
     ]
    }
   ],
   "source": [
    "print(first_link.text)"
   ]
  },
  {
   "cell_type": "markdown",
   "metadata": {},
   "source": [
    "A veces necesitamos el valor de ciertos atributos. Esto es especialmente relevante para las etiquetas «a» o enlaces, donde el atributo «href» nos indica adónde lleva el enlace.\n",
    "\n",
    "💡 **Consejo**: Puedes acceder a los atributos de una etiqueta tratándola como un diccionario:"
   ]
  },
  {
   "cell_type": "code",
   "execution_count": 133,
   "metadata": {
    "tags": []
   },
   "outputs": [
    {
     "name": "stdout",
     "output_type": "stream",
     "text": [
      "/senate/default.asp\n"
     ]
    }
   ],
   "source": [
    "print(first_link['href'])"
   ]
  },
  {
   "cell_type": "markdown",
   "metadata": {},
   "source": [
    "## 🥊 Desafío: Extraer atributos específicos\n",
    "\n",
    "Extraer todos los atributos `href` de cada URL `mainmenu`."
   ]
  },
  {
   "cell_type": "code",
   "execution_count": 134,
   "metadata": {},
   "outputs": [
    {
     "name": "stdout",
     "output_type": "stream",
     "text": [
      "['/', '/legislation/', '/senate/', '/house/', '/mylegislation/']\n"
     ]
    }
   ],
   "source": [
    "# Encontrar todos los elementos <a> con la clase 'mainmenu'\n",
    "mainmenu_links = soup.find_all(\"a\", class_=\"mainmenu\")\n",
    "\n",
    "# Extraer los atributos 'href'\n",
    "hrefs = [link.get(\"href\") for link in mainmenu_links if link.get(\"href\")]\n",
    "\n",
    "# Mostrar los primeros 5 enlaces\n",
    "print(hrefs[:5])"
   ]
  },
  {
   "cell_type": "markdown",
   "metadata": {},
   "source": [
    "<a id='scrape'></a>\n",
    "\n",
    "# Análisis de la Asamblea General de Illinois\n",
    "\n",
    "Aunque parezca increíble, estas son las herramientas fundamentales para analizar un sitio web. Una vez que dediques más tiempo a familiarizarte con HTML y CSS, solo tendrás que comprender la estructura de un sitio web específico y aplicar con inteligencia las herramientas de Beautiful Soup y Python.\n",
    "\n",
    "Apliquemos estas habilidades para analizar la [98.ª Asamblea General de Illinois](http://www.ilga.gov/senate/default.asp?GA=98).\n",
    "\n",
    "En concreto, nuestro objetivo es analizar la información de cada senador, incluyendo su nombre, distrito y partido."
   ]
  },
  {
   "cell_type": "markdown",
   "metadata": {},
   "source": [
    "## Analizar la página web\n",
    "\n",
    "Analicemos la página web usando las herramientas que aprendimos en la sección anterior."
   ]
  },
  {
   "cell_type": "code",
   "execution_count": 135,
   "metadata": {
    "tags": []
   },
   "outputs": [],
   "source": [
    "# Make a GET request\n",
    "req = requests.get('http://www.ilga.gov/senate/default.asp?GA=98')\n",
    "# Read the content of the server’s response\n",
    "src = req.text\n",
    "# Soup it\n",
    "soup = BeautifulSoup(src, \"lxml\")"
   ]
  },
  {
   "cell_type": "markdown",
   "metadata": {},
   "source": [
    "## Buscar los elementos de la tabla\n",
    "\n",
    "Nuestro objetivo es obtener los elementos de la tabla en la página web. Recuerde: las filas se identifican con la etiqueta `tr`. Usemos `find_all` para obtener estos elementos."
   ]
  },
  {
   "cell_type": "code",
   "execution_count": 136,
   "metadata": {},
   "outputs": [
    {
     "data": {
      "text/plain": [
       "73"
      ]
     },
     "execution_count": 136,
     "metadata": {},
     "output_type": "execute_result"
    }
   ],
   "source": [
    "# Get all table row elements\n",
    "rows = soup.find_all(\"tr\")\n",
    "len(rows)"
   ]
  },
  {
   "cell_type": "markdown",
   "metadata": {},
   "source": [
    "⚠️ **Advertencia**: Ten en cuenta que `find_all` obtiene *todos* los elementos con la etiqueta `tr`. Solo necesitamos algunos. Si usamos la función \"Inspeccionar\" de Google Chrome y observamos con atención, podemos usar selectores CSS para obtener solo las filas que nos interesan. En concreto, queremos las filas internas de la tabla:"
   ]
  },
  {
   "cell_type": "code",
   "execution_count": 137,
   "metadata": {},
   "outputs": [
    {
     "name": "stdout",
     "output_type": "stream",
     "text": [
      "<tr><td colspan=\"5\">\n",
      "<span class=\"heading\">Illinois State Senators</span>\n",
      "<span class=\"italics\">  98th  General Assembly</span><br/>\n",
      "<!-- 3/2/09 temp comment out until fixed for GA specific-->\n",
      "<!-- add 97th ga currently no info -->\n",
      "<a href=\"98GA_Senate_Leadership.pdf\">Leadership</a> <a href=\"98th_Senate_Officers.pdf\">Officers</a> <a href=\"98GA_Senate_Seating_Chart.pdf\">Senate Seating Chart</a>  <span class=\"content\"><b>Democrats:</b> 40   <b>Republicans:</b> 19</span><br/>\n",
      "</td></tr> \n",
      "\n",
      "<tr>\n",
      "<td class=\"header\" width=\"45%\"><a class=\"filetab\" href=\"javascript:Sort('LastName','',98);\" title=\"Sort by Senator\">Senator</a></td>\n",
      "<td align=\"center\" class=\"header\" width=\"15%\">Bills</td>\n",
      "<td align=\"center\" class=\"header\" width=\"10%\">Committees</td>\n",
      "<td align=\"center\" class=\"header\" width=\"15%\"><a class=\"filetab\" href=\"javascript:Sort('DistrictNumber','',98);\" title=\"Sort by District\">District</a></td>\n",
      "<td align=\"center\" class=\"header\" width=\"15%\"><a class=\"filetab\" href=\"javascript:Sort('Party','',98);\" title=\"Sort by Party\">Party</a></td>\n",
      "</tr> \n",
      "\n",
      "<tr><td bgcolor=\"white\" class=\"detail\" width=\"40%\"><a class=\"notranslate\" href=\"/senate/Senator.asp?GA=98&amp;MemberID=1911\">Pamela J. Althoff</a></td><td align=\"center\" bgcolor=\"white\" class=\"detail\" width=\"15%\"><a href=\"SenatorBills.asp?GA=98&amp;MemberID=1911\">Bills</a></td><td align=\"center\" bgcolor=\"white\" class=\"detail\" width=\"15%\"><a href=\"SenCommittees.asp?GA=98&amp;MemberID=1911\">Committees</a></td><td align=\"center\" bgcolor=\"white\" class=\"detail\" width=\"15%\">32</td><td align=\"center\" bgcolor=\"white\" class=\"detail\" width=\"15%\">R</td></tr> \n",
      "\n",
      "<tr><td bgcolor=\"EBEBEB\" class=\"detail\" width=\"40%\"><a class=\"notranslate\" href=\"/senate/Senator.asp?GA=98&amp;MemberID=2018\">Jason A. Barickman</a></td><td align=\"center\" bgcolor=\"EBEBEB\" class=\"detail\" width=\"15%\"><a href=\"SenatorBills.asp?GA=98&amp;MemberID=2018\">Bills</a></td><td align=\"center\" bgcolor=\"EBEBEB\" class=\"detail\" width=\"15%\"><a href=\"SenCommittees.asp?GA=98&amp;MemberID=2018\">Committees</a></td><td align=\"center\" bgcolor=\"EBEBEB\" class=\"detail\" width=\"15%\">53</td><td align=\"center\" bgcolor=\"EBEBEB\" class=\"detail\" width=\"15%\">R</td></tr> \n",
      "\n",
      "<tr><td bgcolor=\"white\" class=\"detail\" width=\"40%\"><a class=\"notranslate\" href=\"/senate/Senator.asp?GA=98&amp;MemberID=2272\">Scott M Bennett</a></td><td align=\"center\" bgcolor=\"white\" class=\"detail\" width=\"15%\"><a href=\"SenatorBills.asp?GA=98&amp;MemberID=2272\">Bills</a></td><td align=\"center\" bgcolor=\"white\" class=\"detail\" width=\"15%\"><a href=\"SenCommittees.asp?GA=98&amp;MemberID=2272\">Committees</a></td><td align=\"center\" bgcolor=\"white\" class=\"detail\" width=\"15%\">52</td><td align=\"center\" bgcolor=\"white\" class=\"detail\" width=\"15%\">D</td></tr> \n",
      "\n"
     ]
    }
   ],
   "source": [
    "# Returns every ‘tr tr tr’ css selector in the page\n",
    "rows = soup.select('tr tr tr')\n",
    "\n",
    "for row in rows[:5]:\n",
    "    print(row, '\\n')"
   ]
  },
  {
   "cell_type": "markdown",
   "metadata": {},
   "source": [
    "Parece que queremos todo lo que queda después de las dos primeras filas. Empecemos con una sola fila y construyamos nuestro bucle a partir de ahí."
   ]
  },
  {
   "cell_type": "code",
   "execution_count": 138,
   "metadata": {},
   "outputs": [
    {
     "name": "stdout",
     "output_type": "stream",
     "text": [
      "<tr>\n",
      " <td bgcolor=\"white\" class=\"detail\" width=\"40%\">\n",
      "  <a class=\"notranslate\" href=\"/senate/Senator.asp?GA=98&amp;MemberID=1911\">\n",
      "   Pamela J. Althoff\n",
      "  </a>\n",
      " </td>\n",
      " <td align=\"center\" bgcolor=\"white\" class=\"detail\" width=\"15%\">\n",
      "  <a href=\"SenatorBills.asp?GA=98&amp;MemberID=1911\">\n",
      "   Bills\n",
      "  </a>\n",
      " </td>\n",
      " <td align=\"center\" bgcolor=\"white\" class=\"detail\" width=\"15%\">\n",
      "  <a href=\"SenCommittees.asp?GA=98&amp;MemberID=1911\">\n",
      "   Committees\n",
      "  </a>\n",
      " </td>\n",
      " <td align=\"center\" bgcolor=\"white\" class=\"detail\" width=\"15%\">\n",
      "  32\n",
      " </td>\n",
      " <td align=\"center\" bgcolor=\"white\" class=\"detail\" width=\"15%\">\n",
      "  R\n",
      " </td>\n",
      "</tr>\n",
      "\n"
     ]
    }
   ],
   "source": [
    "example_row = rows[2]\n",
    "print(example_row.prettify())"
   ]
  },
  {
   "cell_type": "markdown",
   "metadata": {},
   "source": [
    "Desglosemos esta fila en sus celdas/columnas mediante el método `select` con selectores CSS. Si analizamos el HTML con atención, hay un par de maneras de hacerlo.\n",
    "\n",
    "* Podríamos identificar las celdas por su etiqueta `td`.\n",
    "* Podríamos usar el nombre de clase `.detail`.\n",
    "* Podríamos combinar ambos y usar el selector `td.detail`."
   ]
  },
  {
   "cell_type": "code",
   "execution_count": 139,
   "metadata": {},
   "outputs": [
    {
     "name": "stdout",
     "output_type": "stream",
     "text": [
      "<td bgcolor=\"white\" class=\"detail\" width=\"40%\"><a class=\"notranslate\" href=\"/senate/Senator.asp?GA=98&amp;MemberID=1911\">Pamela J. Althoff</a></td>\n",
      "<td align=\"center\" bgcolor=\"white\" class=\"detail\" width=\"15%\"><a href=\"SenatorBills.asp?GA=98&amp;MemberID=1911\">Bills</a></td>\n",
      "<td align=\"center\" bgcolor=\"white\" class=\"detail\" width=\"15%\"><a href=\"SenCommittees.asp?GA=98&amp;MemberID=1911\">Committees</a></td>\n",
      "<td align=\"center\" bgcolor=\"white\" class=\"detail\" width=\"15%\">32</td>\n",
      "<td align=\"center\" bgcolor=\"white\" class=\"detail\" width=\"15%\">R</td>\n",
      "\n",
      "<td bgcolor=\"white\" class=\"detail\" width=\"40%\"><a class=\"notranslate\" href=\"/senate/Senator.asp?GA=98&amp;MemberID=1911\">Pamela J. Althoff</a></td>\n",
      "<td align=\"center\" bgcolor=\"white\" class=\"detail\" width=\"15%\"><a href=\"SenatorBills.asp?GA=98&amp;MemberID=1911\">Bills</a></td>\n",
      "<td align=\"center\" bgcolor=\"white\" class=\"detail\" width=\"15%\"><a href=\"SenCommittees.asp?GA=98&amp;MemberID=1911\">Committees</a></td>\n",
      "<td align=\"center\" bgcolor=\"white\" class=\"detail\" width=\"15%\">32</td>\n",
      "<td align=\"center\" bgcolor=\"white\" class=\"detail\" width=\"15%\">R</td>\n",
      "\n",
      "<td bgcolor=\"white\" class=\"detail\" width=\"40%\"><a class=\"notranslate\" href=\"/senate/Senator.asp?GA=98&amp;MemberID=1911\">Pamela J. Althoff</a></td>\n",
      "<td align=\"center\" bgcolor=\"white\" class=\"detail\" width=\"15%\"><a href=\"SenatorBills.asp?GA=98&amp;MemberID=1911\">Bills</a></td>\n",
      "<td align=\"center\" bgcolor=\"white\" class=\"detail\" width=\"15%\"><a href=\"SenCommittees.asp?GA=98&amp;MemberID=1911\">Committees</a></td>\n",
      "<td align=\"center\" bgcolor=\"white\" class=\"detail\" width=\"15%\">32</td>\n",
      "<td align=\"center\" bgcolor=\"white\" class=\"detail\" width=\"15%\">R</td>\n",
      "\n"
     ]
    }
   ],
   "source": [
    "for cell in example_row.select('td'):\n",
    "    print(cell)\n",
    "print()\n",
    "\n",
    "for cell in example_row.select('.detail'):\n",
    "    print(cell)\n",
    "print()\n",
    "\n",
    "for cell in example_row.select('td.detail'):\n",
    "    print(cell)\n",
    "print()"
   ]
  },
  {
   "cell_type": "markdown",
   "metadata": {},
   "source": [
    "Podemos confirmar que todos son iguales."
   ]
  },
  {
   "cell_type": "code",
   "execution_count": 140,
   "metadata": {
    "tags": []
   },
   "outputs": [],
   "source": [
    "assert example_row.select('td') == example_row.select('.detail') == example_row.select('td.detail')"
   ]
  },
  {
   "cell_type": "markdown",
   "metadata": {},
   "source": [
    "Utilicemos el selector `td.detail` para ser lo más específicos posible."
   ]
  },
  {
   "cell_type": "code",
   "execution_count": 141,
   "metadata": {},
   "outputs": [
    {
     "data": {
      "text/plain": [
       "[<td bgcolor=\"white\" class=\"detail\" width=\"40%\"><a class=\"notranslate\" href=\"/senate/Senator.asp?GA=98&amp;MemberID=1911\">Pamela J. Althoff</a></td>,\n",
       " <td align=\"center\" bgcolor=\"white\" class=\"detail\" width=\"15%\"><a href=\"SenatorBills.asp?GA=98&amp;MemberID=1911\">Bills</a></td>,\n",
       " <td align=\"center\" bgcolor=\"white\" class=\"detail\" width=\"15%\"><a href=\"SenCommittees.asp?GA=98&amp;MemberID=1911\">Committees</a></td>,\n",
       " <td align=\"center\" bgcolor=\"white\" class=\"detail\" width=\"15%\">32</td>,\n",
       " <td align=\"center\" bgcolor=\"white\" class=\"detail\" width=\"15%\">R</td>]"
      ]
     },
     "execution_count": 141,
     "metadata": {},
     "output_type": "execute_result"
    }
   ],
   "source": [
    "# Select only those 'td' tags with class 'detail' \n",
    "detail_cells = example_row.select('td.detail')\n",
    "detail_cells"
   ]
  },
  {
   "cell_type": "markdown",
   "metadata": {},
   "source": [
    "La mayoría de las veces, nos interesa el **texto** real de un sitio web, no sus etiquetas. Recordemos que para obtener el texto de un elemento HTML, usamos el miembro `text`:"
   ]
  },
  {
   "cell_type": "code",
   "execution_count": 142,
   "metadata": {},
   "outputs": [
    {
     "name": "stdout",
     "output_type": "stream",
     "text": [
      "['Pamela J. Althoff', 'Bills', 'Committees', '32', 'R']\n"
     ]
    }
   ],
   "source": [
    "# Keep only the text in each of those cells\n",
    "row_data = [cell.text for cell in detail_cells]\n",
    "\n",
    "print(row_data)"
   ]
  },
  {
   "cell_type": "markdown",
   "metadata": {},
   "source": [
    "¡Se ve bien! Ahora solo necesitamos usar nuestros conocimientos básicos de Python para obtener los elementos de esta lista que necesitamos. Recuerda: queremos el nombre del senador, su distrito y su partido."
   ]
  },
  {
   "cell_type": "code",
   "execution_count": 143,
   "metadata": {},
   "outputs": [
    {
     "name": "stdout",
     "output_type": "stream",
     "text": [
      "Pamela J. Althoff\n",
      "32\n",
      "R\n"
     ]
    }
   ],
   "source": [
    "print(row_data[0]) # Name\n",
    "print(row_data[3]) # District\n",
    "print(row_data[4]) # Party"
   ]
  },
  {
   "cell_type": "markdown",
   "metadata": {},
   "source": [
    "## Eliminando filas basura\n",
    "\n",
    "Vimos al principio que no todas las filas que obtuvimos corresponden a un senador. Tendremos que hacer limpieza antes de continuar. Vean algunos ejemplos:"
   ]
  },
  {
   "cell_type": "code",
   "execution_count": 144,
   "metadata": {},
   "outputs": [
    {
     "name": "stdout",
     "output_type": "stream",
     "text": [
      "Row 0:\n",
      " <tr><td colspan=\"5\">\n",
      "<span class=\"heading\">Illinois State Senators</span>\n",
      "<span class=\"italics\">  98th  General Assembly</span><br/>\n",
      "<!-- 3/2/09 temp comment out until fixed for GA specific-->\n",
      "<!-- add 97th ga currently no info -->\n",
      "<a href=\"98GA_Senate_Leadership.pdf\">Leadership</a> <a href=\"98th_Senate_Officers.pdf\">Officers</a> <a href=\"98GA_Senate_Seating_Chart.pdf\">Senate Seating Chart</a>  <span class=\"content\"><b>Democrats:</b> 40   <b>Republicans:</b> 19</span><br/>\n",
      "</td></tr> \n",
      "\n",
      "Row 1:\n",
      " <tr>\n",
      "<td class=\"header\" width=\"45%\"><a class=\"filetab\" href=\"javascript:Sort('LastName','',98);\" title=\"Sort by Senator\">Senator</a></td>\n",
      "<td align=\"center\" class=\"header\" width=\"15%\">Bills</td>\n",
      "<td align=\"center\" class=\"header\" width=\"10%\">Committees</td>\n",
      "<td align=\"center\" class=\"header\" width=\"15%\"><a class=\"filetab\" href=\"javascript:Sort('DistrictNumber','',98);\" title=\"Sort by District\">District</a></td>\n",
      "<td align=\"center\" class=\"header\" width=\"15%\"><a class=\"filetab\" href=\"javascript:Sort('Party','',98);\" title=\"Sort by Party\">Party</a></td>\n",
      "</tr> \n",
      "\n",
      "Last Row:\n",
      " <tr>\n",
      "<td align=\"left\" class=\"footer\" width=\"107\">  <img alt=\"Legislative Information System logo\" height=\"45\" src=\"/images/lislogo.jpg\" width=\"100\"/></td>\n",
      "<td align=\"\" class=\"footer\" valign=\"top\" width=\"100%\">This site is maintained for the Illinois General Assembly \n",
      "by the<br/>Legislative Information System, 705 Stratton Building, Springfield, Illinois 62706<br/>\n",
      "<a class=\"links\" href=\"mailto:webmaster@ilga.gov?subject=Email from ILGA Web\" style=\"font-size:8px\">\n",
      "      Contact ILGA Webmaster</a>\n",
      "</td>\n",
      "</tr>\n"
     ]
    }
   ],
   "source": [
    "print('Row 0:\\n', rows[0], '\\n')\n",
    "print('Row 1:\\n', rows[1], '\\n')\n",
    "print('Last Row:\\n', rows[-1])"
   ]
  },
  {
   "cell_type": "markdown",
   "metadata": {},
   "source": [
    "Al escribir nuestro bucle for, queremos que solo se aplique a las filas relevantes. Por lo tanto, debemos filtrar las filas irrelevantes. Para ello, comparamos algunas de estas filas con las que necesitamos, observamos sus diferencias y luego formulamos esto en una condición.\n",
    "\n",
    "Como puedes imaginar, hay muchas maneras de hacerlo, y dependerá del sitio web. Aquí te mostraremos algunas para que te hagas una idea de cómo hacerlo."
   ]
  },
  {
   "cell_type": "code",
   "execution_count": 145,
   "metadata": {},
   "outputs": [
    {
     "name": "stdout",
     "output_type": "stream",
     "text": [
      "1\n",
      "11\n",
      "5\n",
      "5\n"
     ]
    }
   ],
   "source": [
    "# Bad rows\n",
    "print(len(rows[0]))\n",
    "print(len(rows[1]))\n",
    "\n",
    "# Good rows\n",
    "print(len(rows[2]))\n",
    "print(len(rows[3]))"
   ]
  },
  {
   "cell_type": "markdown",
   "metadata": {},
   "source": [
    "Quizás las buenas filas tengan una longitud de 5. Comprobémoslo:"
   ]
  },
  {
   "cell_type": "code",
   "execution_count": 146,
   "metadata": {},
   "outputs": [
    {
     "name": "stdout",
     "output_type": "stream",
     "text": [
      "<tr><td bgcolor=\"white\" class=\"detail\" width=\"40%\"><a class=\"notranslate\" href=\"/senate/Senator.asp?GA=98&amp;MemberID=1911\">Pamela J. Althoff</a></td><td align=\"center\" bgcolor=\"white\" class=\"detail\" width=\"15%\"><a href=\"SenatorBills.asp?GA=98&amp;MemberID=1911\">Bills</a></td><td align=\"center\" bgcolor=\"white\" class=\"detail\" width=\"15%\"><a href=\"SenCommittees.asp?GA=98&amp;MemberID=1911\">Committees</a></td><td align=\"center\" bgcolor=\"white\" class=\"detail\" width=\"15%\">32</td><td align=\"center\" bgcolor=\"white\" class=\"detail\" width=\"15%\">R</td></tr> \n",
      "\n",
      "<tr><td bgcolor=\"white\" class=\"detail\" width=\"40%\"><a class=\"notranslate\" href=\"/senate/Senator.asp?GA=98&amp;MemberID=2035\">Patricia Van Pelt</a></td><td align=\"center\" bgcolor=\"white\" class=\"detail\" width=\"15%\"><a href=\"SenatorBills.asp?GA=98&amp;MemberID=2035\">Bills</a></td><td align=\"center\" bgcolor=\"white\" class=\"detail\" width=\"15%\"><a href=\"SenCommittees.asp?GA=98&amp;MemberID=2035\">Committees</a></td><td align=\"center\" bgcolor=\"white\" class=\"detail\" width=\"15%\">5</td><td align=\"center\" bgcolor=\"white\" class=\"detail\" width=\"15%\">D</td></tr> \n",
      "\n",
      "<tr>\n",
      "<td align=\"left\" class=\"footer\" width=\"107\">  <img alt=\"Legislative Information System logo\" height=\"45\" src=\"/images/lislogo.jpg\" width=\"100\"/></td>\n",
      "<td align=\"\" class=\"footer\" valign=\"top\" width=\"100%\">This site is maintained for the Illinois General Assembly \n",
      "by the<br/>Legislative Information System, 705 Stratton Building, Springfield, Illinois 62706<br/>\n",
      "<a class=\"links\" href=\"mailto:webmaster@ilga.gov?subject=Email from ILGA Web\" style=\"font-size:8px\">\n",
      "      Contact ILGA Webmaster</a>\n",
      "</td>\n",
      "</tr>\n"
     ]
    }
   ],
   "source": [
    "good_rows = [row for row in rows if len(row) == 5]\n",
    "\n",
    "# Let's check some rows\n",
    "print(good_rows[0], '\\n')\n",
    "print(good_rows[-2], '\\n')\n",
    "print(good_rows[-1])"
   ]
  },
  {
   "cell_type": "markdown",
   "metadata": {},
   "source": [
    "Encontramos una fila de pie de página en nuestra lista que queremos evitar. Probemos algo diferente:"
   ]
  },
  {
   "cell_type": "code",
   "execution_count": 147,
   "metadata": {},
   "outputs": [
    {
     "data": {
      "text/plain": [
       "[<td bgcolor=\"white\" class=\"detail\" width=\"40%\"><a class=\"notranslate\" href=\"/senate/Senator.asp?GA=98&amp;MemberID=1911\">Pamela J. Althoff</a></td>,\n",
       " <td align=\"center\" bgcolor=\"white\" class=\"detail\" width=\"15%\"><a href=\"SenatorBills.asp?GA=98&amp;MemberID=1911\">Bills</a></td>,\n",
       " <td align=\"center\" bgcolor=\"white\" class=\"detail\" width=\"15%\"><a href=\"SenCommittees.asp?GA=98&amp;MemberID=1911\">Committees</a></td>,\n",
       " <td align=\"center\" bgcolor=\"white\" class=\"detail\" width=\"15%\">32</td>,\n",
       " <td align=\"center\" bgcolor=\"white\" class=\"detail\" width=\"15%\">R</td>]"
      ]
     },
     "execution_count": 147,
     "metadata": {},
     "output_type": "execute_result"
    }
   ],
   "source": [
    "rows[2].select('td.detail') "
   ]
  },
  {
   "cell_type": "code",
   "execution_count": 148,
   "metadata": {},
   "outputs": [
    {
     "name": "stdout",
     "output_type": "stream",
     "text": [
      "[] \n",
      "\n",
      "[<td bgcolor=\"EBEBEB\" class=\"detail\" width=\"40%\"><a class=\"notranslate\" href=\"/senate/Senator.asp?GA=98&amp;MemberID=2022\">Jennifer Bertino-Tarrant</a></td>, <td align=\"center\" bgcolor=\"EBEBEB\" class=\"detail\" width=\"15%\"><a href=\"SenatorBills.asp?GA=98&amp;MemberID=2022\">Bills</a></td>, <td align=\"center\" bgcolor=\"EBEBEB\" class=\"detail\" width=\"15%\"><a href=\"SenCommittees.asp?GA=98&amp;MemberID=2022\">Committees</a></td>, <td align=\"center\" bgcolor=\"EBEBEB\" class=\"detail\" width=\"15%\">49</td>, <td align=\"center\" bgcolor=\"EBEBEB\" class=\"detail\" width=\"15%\">D</td>] \n",
      "\n",
      "Checking rows...\n",
      "\n",
      "<tr><td bgcolor=\"white\" class=\"detail\" width=\"40%\"><a class=\"notranslate\" href=\"/senate/Senator.asp?GA=98&amp;MemberID=1911\">Pamela J. Althoff</a></td><td align=\"center\" bgcolor=\"white\" class=\"detail\" width=\"15%\"><a href=\"SenatorBills.asp?GA=98&amp;MemberID=1911\">Bills</a></td><td align=\"center\" bgcolor=\"white\" class=\"detail\" width=\"15%\"><a href=\"SenCommittees.asp?GA=98&amp;MemberID=1911\">Committees</a></td><td align=\"center\" bgcolor=\"white\" class=\"detail\" width=\"15%\">32</td><td align=\"center\" bgcolor=\"white\" class=\"detail\" width=\"15%\">R</td></tr> \n",
      "\n",
      "<tr><td bgcolor=\"white\" class=\"detail\" width=\"40%\"><a class=\"notranslate\" href=\"/senate/Senator.asp?GA=98&amp;MemberID=2035\">Patricia Van Pelt</a></td><td align=\"center\" bgcolor=\"white\" class=\"detail\" width=\"15%\"><a href=\"SenatorBills.asp?GA=98&amp;MemberID=2035\">Bills</a></td><td align=\"center\" bgcolor=\"white\" class=\"detail\" width=\"15%\"><a href=\"SenCommittees.asp?GA=98&amp;MemberID=2035\">Committees</a></td><td align=\"center\" bgcolor=\"white\" class=\"detail\" width=\"15%\">5</td><td align=\"center\" bgcolor=\"white\" class=\"detail\" width=\"15%\">D</td></tr>\n"
     ]
    }
   ],
   "source": [
    "# Bad row\n",
    "print(rows[-1].select('td.detail'), '\\n')\n",
    "\n",
    "# Good row\n",
    "print(rows[5].select('td.detail'), '\\n')\n",
    "\n",
    "# How about this?\n",
    "good_rows = [row for row in rows if row.select('td.detail')]\n",
    "\n",
    "print(\"Checking rows...\\n\")\n",
    "print(good_rows[0], '\\n')\n",
    "print(good_rows[-1])"
   ]
  },
  {
   "cell_type": "markdown",
   "metadata": {},
   "source": [
    "¡Parece que encontramos algo que funcionó!"
   ]
  },
  {
   "cell_type": "markdown",
   "metadata": {},
   "source": [
    "## Unir todo en un bucle\n",
    "\n",
    "Ahora que hemos visto cómo obtener los datos que queremos de una fila y filtrar los que no necesitamos, vamos a unirlo todo en un bucle."
   ]
  },
  {
   "cell_type": "code",
   "execution_count": 149,
   "metadata": {
    "tags": []
   },
   "outputs": [],
   "source": [
    "# Define storage list\n",
    "members = []\n",
    "\n",
    "# Get rid of junk rows\n",
    "valid_rows = [row for row in rows if row.select('td.detail')]\n",
    "\n",
    "# Loop through all rows\n",
    "for row in valid_rows:\n",
    "    # Select only those 'td' tags with class 'detail'\n",
    "    detail_cells = row.select('td.detail')\n",
    "    # Keep only the text in each of those cells\n",
    "    row_data = [cell.text for cell in detail_cells]\n",
    "    # Collect information\n",
    "    name = row_data[0]\n",
    "    district = int(row_data[3])\n",
    "    party = row_data[4]\n",
    "    # Store in a tuple\n",
    "    senator = (name, district, party)\n",
    "    # Append to list\n",
    "    members.append(senator)"
   ]
  },
  {
   "cell_type": "code",
   "execution_count": 150,
   "metadata": {},
   "outputs": [
    {
     "data": {
      "text/plain": [
       "61"
      ]
     },
     "execution_count": 150,
     "metadata": {},
     "output_type": "execute_result"
    }
   ],
   "source": [
    "# Should be 61\n",
    "len(members)"
   ]
  },
  {
   "cell_type": "markdown",
   "metadata": {},
   "source": [
    "Echemos un vistazo a lo que tenemos en \"miembros\"."
   ]
  },
  {
   "cell_type": "code",
   "execution_count": 151,
   "metadata": {},
   "outputs": [
    {
     "name": "stdout",
     "output_type": "stream",
     "text": [
      "[('Pamela J. Althoff', 32, 'R'), ('Jason A. Barickman', 53, 'R'), ('Scott M Bennett', 52, 'D'), ('Jennifer Bertino-Tarrant', 49, 'D'), ('Daniel Biss', 9, 'D')]\n"
     ]
    }
   ],
   "source": [
    "print(members[:5])"
   ]
  },
  {
   "cell_type": "markdown",
   "metadata": {},
   "source": [
    "## 🥊  Desafío: Obtener elementos `href` que apunten a los proyectos de ley de los miembros\n",
    "\n",
    "El código anterior recupera información sobre:\n",
    "\n",
    "- el nombre del senador,\n",
    "- su número de distrito,\n",
    "- y su partido.\n",
    "\n",
    "Ahora queremos recuperar la URL de la lista de proyectos de ley de cada senador. Cada URL seguirá un formato específico.\n",
    "\n",
    "El formato de la lista de proyectos de ley de un senador determinado es:\n",
    "\n",
    "`http://www.ilga.gov/senate/SenatorBills.asp?GA=98&MemberID=[MEMBER_ID]&Primary=True`\n",
    "\n",
    "para obtener algo como:\n",
    "\n",
    "`http://www.ilga.gov/senate/SenatorBills.asp?MemberID=1911&GA=98&Primary=True`\n",
    "\n",
    "donde `MEMBER_ID=1911`.\n",
    "\n",
    "Deberías poder ver que, lamentablemente, `MEMBER_ID` no se extrae actualmente en nuestro código de extracción.\n",
    "\n",
    "Tu tarea inicial es modificar el código anterior para que también **recuperemos la URL completa que apunta a la página correspondiente de los proyectos de ley patrocinados por las primarias**, para cada miembro, y la devolvamos junto con su nombre, distrito y partido.\n",
    "\n",
    "Consejos:\n",
    "\n",
    "* Para ello, deberás obtener el elemento de anclaje apropiado (`<a>`) en la fila de la tabla de cada legislador. Puedes usar el método `.select()` en el objeto `row` del bucle para hacerlo, similar al comando que encuentra todas las celdas `td.detail` de la fila. Recuerda que solo queremos el enlace a los proyectos de ley del legislador, no a los comités ni a su página de perfil.\n",
    "* El HTML de los elementos de anclaje se verá como `<a href=\"/senate/Senator.asp/...\">Proyectos de ley</a>`. La cadena del atributo `href` contiene el enlace **relativo** que buscamos. Puedes acceder a un atributo de un objeto `Tag` de BeatifulSoup de la misma manera que accedes a un diccionario de Python: `anchor['attributeName']`. Consulta la <a href=\"http://www.crummy.com/software/BeautifulSoup/bs4/doc/#tag\">documentación</a> para más detalles.\n",
    "* Hay muchas maneras diferentes de usar BeautifulSoup. Puedes hacer lo que necesites para extraer el `href`.\n",
    "\n",
    "El código se ha completado parcialmente. Complétalo donde dice `#TU CÓDIGO AQUÍ`. Guarda la ruta en un objeto llamado `full_path`."
   ]
  },
  {
   "cell_type": "code",
   "execution_count": 152,
   "metadata": {
    "tags": []
   },
   "outputs": [],
   "source": [
    "# Make a GET request\n",
    "req = requests.get('http://www.ilga.gov/senate/default.asp?GA=98')\n",
    "# Read the content of the server’s response\n",
    "src = req.text\n",
    "# Soup it\n",
    "soup = BeautifulSoup(src, \"lxml\")\n",
    "# Create empty list to store our data\n",
    "members = []\n",
    "\n",
    "# Returns every ‘tr tr tr’ css selector in the page\n",
    "rows = soup.select('tr tr tr')\n",
    "# Get rid of junk rows\n",
    "rows = [row for row in rows if row.select('td.detail')]\n",
    "\n",
    "# Loop through all rows\n",
    "for row in rows:\n",
    "    # Select only those 'td' tags with class 'detail'\n",
    "    detail_cells = row.select('td.detail') \n",
    "    # Keep only the text in each of those cells\n",
    "    row_data = [cell.text for cell in detail_cells]\n",
    "    # Collect information\n",
    "    name = row_data[0]\n",
    "    district = int(row_data[3])\n",
    "    party = row_data[4]\n",
    "\n",
    "    # YOUR CODE HERE\n",
    "    full_path = ''\n",
    "\n",
    "    # Store in a tuple\n",
    "    senator = (name, district, party, full_path)\n",
    "    # Append to list\n",
    "    members.append(senator)"
   ]
  },
  {
   "cell_type": "code",
   "execution_count": 153,
   "metadata": {
    "tags": []
   },
   "outputs": [],
   "source": [
    "# Hacer una solicitud GET a la página del Senado de Illinois\n",
    "url = 'http://www.ilga.gov/senate/default.asp'\n",
    "req = requests.get(url)\n",
    "\n",
    "# Parsear el HTML con BeautifulSoup\n",
    "soup = BeautifulSoup(req.text, 'lxml')\n",
    "\n",
    "# Encontrar la tabla de senadores\n",
    "senator_rows = soup.select(\"table[class='senate'] tr\")\n",
    "\n",
    "# Lista para almacenar la información\n",
    "senators_info = []\n",
    "\n",
    "# Iterar sobre las filas de la tabla\n",
    "for row in senator_rows:\n",
    "    # Extraer los datos de la fila\n",
    "    cells = row.select(\"td.detail\")\n",
    "    \n",
    "    if len(cells) >= 3:  # Verificar si la fila tiene datos válidos\n",
    "        name = cells[0].text.strip()\n",
    "        district = cells[1].text.strip()\n",
    "        party = cells[2].text.strip()\n",
    "        \n",
    "        # Encontrar el enlace a los proyectos de ley del senador\n",
    "        bill_link = row.select_one(\"a[href*='SenatorBills.asp']\")\n",
    "        \n",
    "        if bill_link:\n",
    "            relative_path = bill_link[\"href\"]  # Obtener el 'href' relativo\n",
    "            full_path = f\"http://www.ilga.gov{relative_path}\"  # Construir la URL completa\n",
    "        else:\n",
    "            full_path = \"No disponible\"  # En caso de que no haya enlace\n",
    "\n",
    "        # Agregar los datos a la lista\n",
    "        senators_info.append((name, district, party, full_path))\n",
    "\n",
    "# Mostrar los primeros 5 resultados\n",
    "for senator in senators_info[:5]:\n",
    "    print(senator)"
   ]
  },
  {
   "cell_type": "markdown",
   "metadata": {},
   "source": [
    "## 🥊  Desafío: Modulariza tu código\n",
    "\n",
    "Convierte el código anterior en una función que acepte una URL, rastree la URL en busca de sus senadores y devuelva una lista de tuplas con información sobre cada senador."
   ]
  },
  {
   "cell_type": "code",
   "execution_count": 205,
   "metadata": {
    "tags": []
   },
   "outputs": [],
   "source": [
    "def obtener_senadores(url):\n",
    "    # Hacer una solicitud GET a la página\n",
    "    print(f\"Obteniendo senadores de {url}...\")\n",
    "    req = requests.get(url)\n",
    "\n",
    "    # Verificar si la página respondió correctamente\n",
    "    if req.status_code != 200:\n",
    "        print(f\"Error: No se pudo acceder a la página (Código {req.status_code})\")\n",
    "        return []\n",
    "\n",
    "    # Parsear el HTML con BeautifulSoup\n",
    "    soup = BeautifulSoup(req.text, 'lxml')\n",
    "\n",
    "    # Encontrar todas las filas de la tabla de senadores\n",
    "    senator_rows = soup.select(\"table tr\")\n",
    "\n",
    "    # Lista para almacenar la información\n",
    "    senators_info = []\n",
    "\n",
    "    # Verificar si se encontraron filas\n",
    "    if not senator_rows:\n",
    "        print(\"No se encontraron filas de senadores.\")\n",
    "        return []\n",
    "\n",
    "    # Iterar sobre las filas de la tabla\n",
    "    for row in senator_rows:\n",
    "        # Extraer los datos de la fila\n",
    "        cells = row.select(\"td.detail\")\n",
    "        \n",
    "        # Verificar si la fila tiene datos válidos (mínimo 3 celdas)\n",
    "        if len(cells) >= 3:\n",
    "            name = cells[0].text.strip()\n",
    "            district = cells[1].text.strip()\n",
    "            party = cells[2].text.strip()\n",
    "            \n",
    "            # Buscar el enlace a los proyectos de ley del senador\n",
    "            bill_link = row.select_one(\"a[href*='SenatorBills.asp']\")\n",
    "            \n",
    "            if bill_link:\n",
    "                relative_path = bill_link[\"href\"]  # Obtener el 'href' relativo\n",
    "                full_path = f\"http://www.ilga.gov/senate/{relative_path}\"  # Construir la URL completa\n",
    "            else:\n",
    "                full_path = \"No disponible\"\n",
    "\n",
    "            # Agregar la información a la lista\n",
    "            senators_info.append((name, district, party, full_path))\n",
    "\n",
    "    # Si la lista está vacía, informar\n",
    "    if not senators_info:\n",
    "        print(\"No se encontraron senadores en la tabla.\")\n",
    "\n",
    "    return senators_info"
   ]
  },
  {
   "cell_type": "code",
   "execution_count": 231,
   "metadata": {
    "tags": []
   },
   "outputs": [
    {
     "name": "stdout",
     "output_type": "stream",
     "text": [
      "Obteniendo senadores de http://www.ilga.gov/senate/default.asp?GA=98...\n",
      "Cantidad de senadores encontrados: [('Pamela J. Althoff', 'Bills', 'Committees', 'http://www.ilga.gov/senate/SenatorBills.asp?GA=98&MemberID=1911'), ('Pamela J. Althoff', 'Bills', 'Committees', 'http://www.ilga.gov/senate/SenatorBills.asp?GA=98&MemberID=1911'), ('Pamela J. Althoff', 'Bills', 'Committees', 'http://www.ilga.gov/senate/SenatorBills.asp?GA=98&MemberID=1911'), ('Jason A. Barickman', 'Bills', 'Committees', 'http://www.ilga.gov/senate/SenatorBills.asp?GA=98&MemberID=2018'), ('Scott M Bennett', 'Bills', 'Committees', 'http://www.ilga.gov/senate/SenatorBills.asp?GA=98&MemberID=2272'), ('Jennifer Bertino-Tarrant', 'Bills', 'Committees', 'http://www.ilga.gov/senate/SenatorBills.asp?GA=98&MemberID=2022'), ('Daniel Biss', 'Bills', 'Committees', 'http://www.ilga.gov/senate/SenatorBills.asp?GA=98&MemberID=2020'), ('Tim Bivins', 'Bills', 'Committees', 'http://www.ilga.gov/senate/SenatorBills.asp?GA=98&MemberID=1948'), ('William E. Brady', 'Bills', 'Committees', 'http://www.ilga.gov/senate/SenatorBills.asp?GA=98&MemberID=1880'), ('Melinda Bush', 'Bills', 'Committees', 'http://www.ilga.gov/senate/SenatorBills.asp?GA=98&MemberID=2023'), ('James F. Clayborne, Jr.', 'Bills', 'Committees', 'http://www.ilga.gov/senate/SenatorBills.asp?GA=98&MemberID=1864'), ('Jacqueline Y. Collins', 'Bills', 'Committees', 'http://www.ilga.gov/senate/SenatorBills.asp?GA=98&MemberID=1899'), ('Michael Connelly', 'Bills', 'Committees', 'http://www.ilga.gov/senate/SenatorBills.asp?GA=98&MemberID=2024'), ('John J. Cullerton', 'Bills', 'Committees', 'http://www.ilga.gov/senate/SenatorBills.asp?GA=98&MemberID=1865'), ('Thomas Cullerton', 'Bills', 'Committees', 'http://www.ilga.gov/senate/SenatorBills.asp?GA=98&MemberID=2025'), ('Bill Cunningham', 'Bills', 'Committees', 'http://www.ilga.gov/senate/SenatorBills.asp?GA=98&MemberID=2026'), ('William Delgado', 'Bills', 'Committees', 'http://www.ilga.gov/senate/SenatorBills.asp?GA=98&MemberID=1930'), ('Kirk W. Dillard', 'Bills', 'Committees', 'http://www.ilga.gov/senate/SenatorBills.asp?GA=98&MemberID=1866'), ('Dan Duffy', 'Bills', 'Committees', 'http://www.ilga.gov/senate/SenatorBills.asp?GA=98&MemberID=1960'), ('Gary Forby', 'Bills', 'Committees', 'http://www.ilga.gov/senate/SenatorBills.asp?GA=98&MemberID=1914'), ('Michael W. Frerichs', 'Bills', 'Committees', 'http://www.ilga.gov/senate/SenatorBills.asp?GA=98&MemberID=1937'), ('William R. Haine', 'Bills', 'Committees', 'http://www.ilga.gov/senate/SenatorBills.asp?GA=98&MemberID=1909'), ('Don Harmon', 'Bills', 'Committees', 'http://www.ilga.gov/senate/SenatorBills.asp?GA=98&MemberID=1905'), ('Napoleon Harris, III', 'Bills', 'Committees', 'http://www.ilga.gov/senate/SenatorBills.asp?GA=98&MemberID=2027'), ('Michael E. Hastings', 'Bills', 'Committees', 'http://www.ilga.gov/senate/SenatorBills.asp?GA=98&MemberID=2028'), ('Linda Holmes', 'Bills', 'Committees', 'http://www.ilga.gov/senate/SenatorBills.asp?GA=98&MemberID=1936'), ('Mattie Hunter', 'Bills', 'Committees', 'http://www.ilga.gov/senate/SenatorBills.asp?GA=98&MemberID=1910'), ('Toi W. Hutchinson', 'Bills', 'Committees', 'http://www.ilga.gov/senate/SenatorBills.asp?GA=98&MemberID=1961'), ('Mike Jacobs', 'Bills', 'Committees', 'http://www.ilga.gov/senate/SenatorBills.asp?GA=98&MemberID=1924'), ('Emil Jones, III', 'Bills', 'Committees', 'http://www.ilga.gov/senate/SenatorBills.asp?GA=98&MemberID=1963'), ('David Koehler', 'Bills', 'Committees', 'http://www.ilga.gov/senate/SenatorBills.asp?GA=98&MemberID=1938'), ('Dan Kotowski', 'Bills', 'Committees', 'http://www.ilga.gov/senate/SenatorBills.asp?GA=98&MemberID=1935'), ('Darin M. LaHood', 'Bills', 'Committees', 'http://www.ilga.gov/senate/SenatorBills.asp?GA=98&MemberID=1999'), ('Steven M. Landek', 'Bills', 'Committees', 'http://www.ilga.gov/senate/SenatorBills.asp?GA=98&MemberID=1997'), ('Kimberly A. Lightford', 'Bills', 'Committees', 'http://www.ilga.gov/senate/SenatorBills.asp?GA=98&MemberID=1869'), ('Terry Link', 'Bills', 'Committees', 'http://www.ilga.gov/senate/SenatorBills.asp?GA=98&MemberID=1870'), ('David S. Luechtefeld', 'Bills', 'Committees', 'http://www.ilga.gov/senate/SenatorBills.asp?GA=98&MemberID=1871'), ('Andy Manar', 'Bills', 'Committees', 'http://www.ilga.gov/senate/SenatorBills.asp?GA=98&MemberID=2029'), ('Iris Y. Martinez', 'Bills', 'Committees', 'http://www.ilga.gov/senate/SenatorBills.asp?GA=98&MemberID=1902'), ('Wm. Sam McCann', 'Bills', 'Committees', 'http://www.ilga.gov/senate/SenatorBills.asp?GA=98&MemberID=1995'), ('Kyle McCarter', 'Bills', 'Committees', 'http://www.ilga.gov/senate/SenatorBills.asp?GA=98&MemberID=1964'), ('Karen McConnaughay', 'Bills', 'Committees', 'http://www.ilga.gov/senate/SenatorBills.asp?GA=98&MemberID=2030'), ('Pat McGuire', 'Bills', 'Committees', 'http://www.ilga.gov/senate/SenatorBills.asp?GA=98&MemberID=2010'), ('Julie A. Morrison', 'Bills', 'Committees', 'http://www.ilga.gov/senate/SenatorBills.asp?GA=98&MemberID=2031'), ('John G. Mulroe', 'Bills', 'Committees', 'http://www.ilga.gov/senate/SenatorBills.asp?GA=98&MemberID=1970'), ('Antonio Muñoz', 'Bills', 'Committees', 'http://www.ilga.gov/senate/SenatorBills.asp?GA=98&MemberID=1872'), ('Matt Murphy', 'Bills', 'Committees', 'http://www.ilga.gov/senate/SenatorBills.asp?GA=98&MemberID=1934'), ('Michael Noland', 'Bills', 'Committees', 'http://www.ilga.gov/senate/SenatorBills.asp?GA=98&MemberID=1933'), ('Chris Nybo', 'Bills', 'Committees', 'http://www.ilga.gov/senate/SenatorBills.asp?GA=98&MemberID=2072'), ('Jim Oberweis', 'Bills', 'Committees', 'http://www.ilga.gov/senate/SenatorBills.asp?GA=98&MemberID=2032'), ('Christine Radogno', 'Bills', 'Committees', 'http://www.ilga.gov/senate/SenatorBills.asp?GA=98&MemberID=1873'), ('Kwame Raoul', 'Bills', 'Committees', 'http://www.ilga.gov/senate/SenatorBills.asp?GA=98&MemberID=1917'), ('Sue Rezin', 'Bills', 'Committees', 'http://www.ilga.gov/senate/SenatorBills.asp?GA=98&MemberID=1975'), ('Dale A. Righter', 'Bills', 'Committees', 'http://www.ilga.gov/senate/SenatorBills.asp?GA=98&MemberID=1908'), ('Chapin Rose', 'Bills', 'Committees', 'http://www.ilga.gov/senate/SenatorBills.asp?GA=98&MemberID=2033'), ('Martin A. Sandoval', 'Bills', 'Committees', 'http://www.ilga.gov/senate/SenatorBills.asp?GA=98&MemberID=1897'), ('Ira I. Silverstein', 'Bills', 'Committees', 'http://www.ilga.gov/senate/SenatorBills.asp?GA=98&MemberID=1874'), ('Steve Stadelman', 'Bills', 'Committees', 'http://www.ilga.gov/senate/SenatorBills.asp?GA=98&MemberID=2034'), ('Heather A. Steans', 'Bills', 'Committees', 'http://www.ilga.gov/senate/SenatorBills.asp?GA=98&MemberID=1947'), ('John M. Sullivan', 'Bills', 'Committees', 'http://www.ilga.gov/senate/SenatorBills.asp?GA=98&MemberID=1906'), ('Dave Syverson', 'Bills', 'Committees', 'http://www.ilga.gov/senate/SenatorBills.asp?GA=98&MemberID=1875'), ('Donne E. Trotter', 'Bills', 'Committees', 'http://www.ilga.gov/senate/SenatorBills.asp?GA=98&MemberID=1876'), ('Patricia Van Pelt', 'Bills', 'Committees', 'http://www.ilga.gov/senate/SenatorBills.asp?GA=98&MemberID=2035')]\n",
      "\n",
      "('Pamela J. Althoff', 'Bills', 'Committees', 'http://www.ilga.gov/senate/SenatorBills.asp?GA=98&MemberID=1911')\n",
      "('Pamela J. Althoff', 'Bills', 'Committees', 'http://www.ilga.gov/senate/SenatorBills.asp?GA=98&MemberID=1911')\n",
      "('Pamela J. Althoff', 'Bills', 'Committees', 'http://www.ilga.gov/senate/SenatorBills.asp?GA=98&MemberID=1911')\n",
      "('Jason A. Barickman', 'Bills', 'Committees', 'http://www.ilga.gov/senate/SenatorBills.asp?GA=98&MemberID=2018')\n",
      "('Scott M Bennett', 'Bills', 'Committees', 'http://www.ilga.gov/senate/SenatorBills.asp?GA=98&MemberID=2272')\n",
      "('Jennifer Bertino-Tarrant', 'Bills', 'Committees', 'http://www.ilga.gov/senate/SenatorBills.asp?GA=98&MemberID=2022')\n",
      "('Daniel Biss', 'Bills', 'Committees', 'http://www.ilga.gov/senate/SenatorBills.asp?GA=98&MemberID=2020')\n",
      "('Tim Bivins', 'Bills', 'Committees', 'http://www.ilga.gov/senate/SenatorBills.asp?GA=98&MemberID=1948')\n",
      "('William E. Brady', 'Bills', 'Committees', 'http://www.ilga.gov/senate/SenatorBills.asp?GA=98&MemberID=1880')\n",
      "('Melinda Bush', 'Bills', 'Committees', 'http://www.ilga.gov/senate/SenatorBills.asp?GA=98&MemberID=2023')\n",
      "('James F. Clayborne, Jr.', 'Bills', 'Committees', 'http://www.ilga.gov/senate/SenatorBills.asp?GA=98&MemberID=1864')\n",
      "('Jacqueline Y. Collins', 'Bills', 'Committees', 'http://www.ilga.gov/senate/SenatorBills.asp?GA=98&MemberID=1899')\n",
      "('Michael Connelly', 'Bills', 'Committees', 'http://www.ilga.gov/senate/SenatorBills.asp?GA=98&MemberID=2024')\n",
      "('John J. Cullerton', 'Bills', 'Committees', 'http://www.ilga.gov/senate/SenatorBills.asp?GA=98&MemberID=1865')\n",
      "('Thomas Cullerton', 'Bills', 'Committees', 'http://www.ilga.gov/senate/SenatorBills.asp?GA=98&MemberID=2025')\n",
      "('Bill Cunningham', 'Bills', 'Committees', 'http://www.ilga.gov/senate/SenatorBills.asp?GA=98&MemberID=2026')\n",
      "('William Delgado', 'Bills', 'Committees', 'http://www.ilga.gov/senate/SenatorBills.asp?GA=98&MemberID=1930')\n",
      "('Kirk W. Dillard', 'Bills', 'Committees', 'http://www.ilga.gov/senate/SenatorBills.asp?GA=98&MemberID=1866')\n",
      "('Dan Duffy', 'Bills', 'Committees', 'http://www.ilga.gov/senate/SenatorBills.asp?GA=98&MemberID=1960')\n",
      "('Gary Forby', 'Bills', 'Committees', 'http://www.ilga.gov/senate/SenatorBills.asp?GA=98&MemberID=1914')\n",
      "('Michael W. Frerichs', 'Bills', 'Committees', 'http://www.ilga.gov/senate/SenatorBills.asp?GA=98&MemberID=1937')\n",
      "('William R. Haine', 'Bills', 'Committees', 'http://www.ilga.gov/senate/SenatorBills.asp?GA=98&MemberID=1909')\n",
      "('Don Harmon', 'Bills', 'Committees', 'http://www.ilga.gov/senate/SenatorBills.asp?GA=98&MemberID=1905')\n",
      "('Napoleon Harris, III', 'Bills', 'Committees', 'http://www.ilga.gov/senate/SenatorBills.asp?GA=98&MemberID=2027')\n",
      "('Michael E. Hastings', 'Bills', 'Committees', 'http://www.ilga.gov/senate/SenatorBills.asp?GA=98&MemberID=2028')\n",
      "('Linda Holmes', 'Bills', 'Committees', 'http://www.ilga.gov/senate/SenatorBills.asp?GA=98&MemberID=1936')\n",
      "('Mattie Hunter', 'Bills', 'Committees', 'http://www.ilga.gov/senate/SenatorBills.asp?GA=98&MemberID=1910')\n",
      "('Toi W. Hutchinson', 'Bills', 'Committees', 'http://www.ilga.gov/senate/SenatorBills.asp?GA=98&MemberID=1961')\n",
      "('Mike Jacobs', 'Bills', 'Committees', 'http://www.ilga.gov/senate/SenatorBills.asp?GA=98&MemberID=1924')\n",
      "('Emil Jones, III', 'Bills', 'Committees', 'http://www.ilga.gov/senate/SenatorBills.asp?GA=98&MemberID=1963')\n",
      "('David Koehler', 'Bills', 'Committees', 'http://www.ilga.gov/senate/SenatorBills.asp?GA=98&MemberID=1938')\n",
      "('Dan Kotowski', 'Bills', 'Committees', 'http://www.ilga.gov/senate/SenatorBills.asp?GA=98&MemberID=1935')\n",
      "('Darin M. LaHood', 'Bills', 'Committees', 'http://www.ilga.gov/senate/SenatorBills.asp?GA=98&MemberID=1999')\n",
      "('Steven M. Landek', 'Bills', 'Committees', 'http://www.ilga.gov/senate/SenatorBills.asp?GA=98&MemberID=1997')\n",
      "('Kimberly A. Lightford', 'Bills', 'Committees', 'http://www.ilga.gov/senate/SenatorBills.asp?GA=98&MemberID=1869')\n",
      "('Terry Link', 'Bills', 'Committees', 'http://www.ilga.gov/senate/SenatorBills.asp?GA=98&MemberID=1870')\n",
      "('David S. Luechtefeld', 'Bills', 'Committees', 'http://www.ilga.gov/senate/SenatorBills.asp?GA=98&MemberID=1871')\n",
      "('Andy Manar', 'Bills', 'Committees', 'http://www.ilga.gov/senate/SenatorBills.asp?GA=98&MemberID=2029')\n",
      "('Iris Y. Martinez', 'Bills', 'Committees', 'http://www.ilga.gov/senate/SenatorBills.asp?GA=98&MemberID=1902')\n",
      "('Wm. Sam McCann', 'Bills', 'Committees', 'http://www.ilga.gov/senate/SenatorBills.asp?GA=98&MemberID=1995')\n",
      "('Kyle McCarter', 'Bills', 'Committees', 'http://www.ilga.gov/senate/SenatorBills.asp?GA=98&MemberID=1964')\n",
      "('Karen McConnaughay', 'Bills', 'Committees', 'http://www.ilga.gov/senate/SenatorBills.asp?GA=98&MemberID=2030')\n",
      "('Pat McGuire', 'Bills', 'Committees', 'http://www.ilga.gov/senate/SenatorBills.asp?GA=98&MemberID=2010')\n",
      "('Julie A. Morrison', 'Bills', 'Committees', 'http://www.ilga.gov/senate/SenatorBills.asp?GA=98&MemberID=2031')\n",
      "('John G. Mulroe', 'Bills', 'Committees', 'http://www.ilga.gov/senate/SenatorBills.asp?GA=98&MemberID=1970')\n",
      "('Antonio Muñoz', 'Bills', 'Committees', 'http://www.ilga.gov/senate/SenatorBills.asp?GA=98&MemberID=1872')\n",
      "('Matt Murphy', 'Bills', 'Committees', 'http://www.ilga.gov/senate/SenatorBills.asp?GA=98&MemberID=1934')\n",
      "('Michael Noland', 'Bills', 'Committees', 'http://www.ilga.gov/senate/SenatorBills.asp?GA=98&MemberID=1933')\n",
      "('Chris Nybo', 'Bills', 'Committees', 'http://www.ilga.gov/senate/SenatorBills.asp?GA=98&MemberID=2072')\n",
      "('Jim Oberweis', 'Bills', 'Committees', 'http://www.ilga.gov/senate/SenatorBills.asp?GA=98&MemberID=2032')\n"
     ]
    }
   ],
   "source": [
    "url = 'http://www.ilga.gov/senate/default.asp?GA=98'\n",
    "senate_members = obtener_senadores(url)\n",
    "\n",
    "print(f\"Cantidad de senadores encontrados: {senate_members}\\n\")\n",
    "# Imprimir los primeros 5 senadores obtenidos\n",
    "for senador in senate_members[:50]:\n",
    "    print(senador)\n"
   ]
  },
  {
   "cell_type": "markdown",
   "metadata": {},
   "source": [
    "## 🥊 Desafío práctico: Escribir una función de scraping\n",
    "\n",
    "Queremos scraping las páginas web correspondientes a los proyectos de ley patrocinados por cada proyecto de ley.\n",
    "\n",
    "Escribe una función llamada `get_bills(url)` para analizar la URL de un proyecto de ley. Esto implica:\n",
    "\n",
    "- Solicitar la URL mediante la biblioteca <a href=\"http://docs.python-requests.org/en/latest/\">`requests`</a>\n",
    "- Usar las funciones de la biblioteca `BeautifulSoup` para encontrar todos los elementos `<td>` con la clase `billlist`\n",
    "- Devolver una _lista_ de tuplas, cada una con:\n",
    "- Descripción (2.ª columna)\n",
    "- Cámara (S o H) (3.ª columna)\n",
    "- La última acción (4.ª columna)\n",
    "- La fecha de la última acción (5.ª columna)\n",
    "\n",
    "Esta función se ha completado parcialmente. Completa el resto."
   ]
  },
  {
   "cell_type": "code",
   "execution_count": 232,
   "metadata": {
    "tags": []
   },
   "outputs": [],
   "source": [
    "def get_bills(url):\n",
    "    # Obtener el contenido HTML de la página\n",
    "    src = requests.get(url).text\n",
    "    soup = BeautifulSoup(src, 'lxml')  # Asegúrate de usar el parser correcto\n",
    "    \n",
    "    # Buscar todas las filas de la tabla\n",
    "    rows = soup.select('tr')\n",
    "    bills = []\n",
    "\n",
    "    for row in rows:\n",
    "        # Seleccionar todas las celdas con clase 'billlist'\n",
    "        cells = row.select('td.billlist')\n",
    "        \n",
    "        # Verificamos que haya al menos 5 celdas (las columnas necesarias)\n",
    "        if len(cells) >= 5:\n",
    "            bill_id = cells[0].text.strip()\n",
    "            description = cells[1].text.strip()\n",
    "            chamber = cells[2].text.strip()\n",
    "            last_action = cells[3].text.strip()\n",
    "            last_action_date = cells[4].text.strip()\n",
    "            \n",
    "            bill = (bill_id, description, chamber, last_action, last_action_date)\n",
    "            bills.append(bill)\n",
    "\n",
    "    return bills\n"
   ]
  },
  {
   "cell_type": "code",
   "execution_count": 236,
   "metadata": {
    "tags": []
   },
   "outputs": [
    {
     "name": "stdout",
     "output_type": "stream",
     "text": [
      "('SB2', 'STATE GOVERNMENT-TECH', 'S', 'Session Sine Die', '1/13/2015')\n",
      "('SB2', 'STATE GOVERNMENT-TECH', 'S', 'Session Sine Die', '1/13/2015')\n",
      "('SB2', 'STATE GOVERNMENT-TECH', 'S', 'Session Sine Die', '1/13/2015')\n",
      "('SB9', 'PUBLIC UTIL-PERFORMANCE-BASED', 'S', 'Public Act . . . . . . . . . 98-0015', '5/23/2013')\n",
      "('SB27', 'MEDICAID BUDGET NOTE ACT', 'S', 'Session Sine Die', '1/13/2015')\n",
      "('SB28', 'HOMELESS VETERANS SHELTER ACT', 'S', 'Session Sine Die', '1/13/2015')\n",
      "('SB29', 'ROAD FUND-NO TRANSFERS', 'S', 'Session Sine Die', '1/13/2015')\n",
      "('SB31', 'UNIFORM COLLABORATIVE LAW ACT', 'S', 'Session Sine Die', '1/13/2015')\n",
      "('SB33', 'EPA-RULES-DOCUMENT SUBMISSION', 'S', 'Public Act . . . . . . . . . 98-0072', '7/15/2013')\n",
      "('SB44', '$DHS- MENTAL HEALTH PROGRAMS', 'S', 'Session Sine Die', '1/13/2015')\n",
      "('SB62', 'MHDD CD-CLINICAL PSYCHOLOGIST', 'S', 'Public Act . . . . . . . . . 98-0075', '7/15/2013')\n",
      "('SB104', 'MIN WAGE-OVERTIME-ALTERN SHIFT', 'S', 'Session Sine Die', '1/13/2015')\n",
      "('SB124', 'GOVERNMENT-TECH', 'S', 'Session Sine Die', '1/13/2015')\n",
      "('SB217', 'TRAINING EMPLOYMENT PGM ACT', 'S', 'Session Sine Die', '1/13/2015')\n",
      "('SB231', 'DISASTER RELIEF-IEMA-GRANTS', 'S', 'Session Sine Die', '1/13/2015')\n",
      "('SB336', 'REHAB/REVITALIZ TAX CREDIT ACT', 'S', 'Public Act . . . . . . . . . 98-0789', '7/25/2014')\n",
      "('SB347', 'PROP TX-CALCULATION OF RATES', 'S', 'Public Act . . . . . . . . . 98-0863', '8/8/2014')\n",
      "('SB497', 'LOCAL GOVERNMENT-TECH', 'S', 'Public Act . . . . . . . . . 98-0653', '6/18/2014')\n",
      "('SB577', 'SCH CD-SPECIAL ED-GAMING REV', 'S', 'Session Sine Die', '1/13/2015')\n",
      "('SB638', 'REGULATION-TECH', 'S', 'Session Sine Die', '1/13/2015')\n",
      "('SB642', 'HEALTH CARE WKR-FELONY-LICENSE', 'S', 'Session Sine Die', '1/13/2015')\n",
      "('SB1042', 'CIVIL LAW-TECH', 'S', 'Public Act . . . . . . . . . 98-0522', '8/23/2013')\n",
      "('SB1043', 'MANUFACTURED HOME-RELOCATION', 'H', 'Tabled Pursuant to Rule 22(g)', '3/25/2014')\n",
      "('SB1162', 'HOTEL ROOM TAXES-RED CROSS', 'S', 'Session Sine Die', '1/13/2015')\n",
      "('SB1188', 'ETHICS-PARTISAN APPOINTEES', 'S', 'Session Sine Die', '1/13/2015')\n",
      "('SB1204', 'COUNTIES-GIS-TB-ANIMAL CONTROL', 'S', 'Session Sine Die', '1/13/2015')\n",
      "('SB1217', 'DENTAL PRACTICE PHARMACOLOGICS', 'S', 'Public Act . . . . . . . . . 98-0147', '8/2/2013')\n",
      "('SB1244', 'COUNTIES CD-AFFORDABLE HOUSING', 'S', 'Session Sine Die', '1/13/2015')\n",
      "('SB1245', 'PUBLIC SAFETY EMPLOYEE BENEFIT', 'S', 'Public Act . . . . . . . . . 98-0561', '8/27/2013')\n",
      "('SB1246', 'TRANSPORTATION-TECH', 'S', 'Session Sine Die', '1/13/2015')\n",
      "('SB1289', 'PEN CD-GARS-NO NEW MEMBERS', 'S', 'Session Sine Die', '1/13/2015')\n",
      "('SB1293', 'REFRIGERATED WAREHOUSES ACT', 'S', 'Public Act . . . . . . . . . 98-0086', '7/15/2013')\n",
      "('SB1299', 'FOX WATERWAY FEE', 'S', 'Session Sine Die', '1/13/2015')\n",
      "('SB1302', 'UNEMPLOYMENT INS PUBLIC SAFETY', 'S', 'Session Sine Die', '1/13/2015')\n",
      "('SB1310', 'DNR: WATERCRAFT, OFFENSES', 'S', 'Public Act . . . . . . . . . 98-0102', '7/22/2013')\n",
      "('SB1366', 'PEN CD-COOK CO-EARNED ANNUITY', 'S', 'Public Act . . . . . . . . . 98-0042', '6/28/2013')\n",
      "('SB1383', 'VEH CD-SPECIAL PLATE:IL NURSES', 'S', 'Public Act . . . . . . . . . 98-0150', '8/2/2013')\n",
      "('SB1398', 'EARLY GRADUATION TUITION WAIVR', 'S', 'Session Sine Die', '1/13/2015')\n",
      "('SB1403', 'PROP TX-PROTESTS', 'S', 'Session Sine Die', '1/13/2015')\n",
      "('SB1429', 'WORK COMP-CAUSATION', 'S', 'Session Sine Die', '1/13/2015')\n",
      "('SB1431', 'COUNTY BOARD MEMBERS', 'S', 'Public Act . . . . . . . . . 98-1159', '1/9/2015')\n",
      "('SB1448', 'ENDOW ILLINOIS TAX CREDIT ACT', 'S', 'Session Sine Die', '1/13/2015')\n",
      "('SB1476', 'NURS HOME-STAFF RATIO-MEDICAID', 'S', 'Session Sine Die', '1/13/2015')\n",
      "('SB1479', 'BOATING UNDER THE INFLUENCE', 'S', 'Public Act . . . . . . . . . 98-0103', '7/22/2013')\n",
      "('SB1495', 'ELECTROLOGIST LICENSING-SUNSET', 'S', 'Public Act . . . . . . . . . 98-0566', '8/27/2013')\n",
      "('SB1496', 'SURGICAL ASSISTANT-SUNSET', 'S', 'Public Act . . . . . . . . . 98-0601', '12/6/2013')\n",
      "('SB1497', 'VETERANS&MENTAL HEALTH COURTS', 'S', 'Public Act . . . . . . . . . 98-0152', '8/2/2013')\n",
      "('SB1498', 'IFA-EMERALD ASH BORER, REPORTS', 'S', 'Session Sine Die', '1/13/2015')\n",
      "('SB1517', 'GRANT FUNDS RECOVERY ACT', 'S', 'Session Sine Die', '1/13/2015')\n",
      "('SB1518', 'PROP TX-TAX BILLS-PENSION', 'S', 'Session Sine Die', '1/13/2015')\n"
     ]
    }
   ],
   "source": [
    "test_url = senate_members[0][3]\n",
    "bills = get_bills(test_url)\n",
    "for bill in bills[:50]:\n",
    "    print(bill)\n"
   ]
  },
  {
   "cell_type": "markdown",
   "metadata": {},
   "source": [
    "### Extraer todos los proyectos de ley\n",
    "\n",
    "Finalmente, cree un diccionario `bills_dict` que asigne un número de distrito (la clave) a una lista de proyectos de ley (el valor) provenientes de ese distrito. Puede hacerlo recorriendo en bucle todos los miembros del senado en `members_dict` y llamando a `get_bills()` para cada una de las URL de sus proyectos de ley asociados.\n",
    "\n",
    "**NOTA:** Por favor, llame a la función `time.sleep(1)` en cada iteración del bucle para no destruir el sitio web del estado."
   ]
  },
  {
   "cell_type": "code",
   "execution_count": 237,
   "metadata": {
    "tags": []
   },
   "outputs": [
    {
     "name": "stdout",
     "output_type": "stream",
     "text": [
      "Obteniendo senadores de http://www.ilga.gov/senate/default.asp?GA=98...\n",
      "{'Bills': 'http://www.ilga.gov/senate/SenatorBills.asp?GA=98&MemberID=2035'}\n"
     ]
    }
   ],
   "source": [
    "url = 'http://www.ilga.gov/senate/default.asp?GA=98'\n",
    "senate_members = obtener_senadores(url)\n",
    "\n",
    "members_dict = {senador[1]: senador[3] for senador in senate_members if senador[3] != \"No disponible\"}\n",
    "print(members_dict)\n"
   ]
  },
  {
   "cell_type": "code",
   "execution_count": null,
   "metadata": {
    "tags": []
   },
   "outputs": [
    {
     "name": "stdout",
     "output_type": "stream",
     "text": [
      "✅ Archivo guardado como 'proyectos_por_distrito.json'\n"
     ]
    }
   ],
   "source": [
    "import json\n",
    "\n",
    "# Guardar como archivo JSON\n",
    "with open(\"proyectos_por_distrito.json\", \"w\", encoding=\"utf-8\") as f:\n",
    "    json.dump(bills_dict, f, ensure_ascii=False, indent=2)\n",
    "\n",
    "print(\"Archivo guardado como 'proyectos_por_distrito.json'\")\n"
   ]
  }
 ],
 "metadata": {
  "anaconda-cloud": {},
  "kernelspec": {
   "display_name": "Python 3",
   "language": "python",
   "name": "python3"
  },
  "language_info": {
   "codemirror_mode": {
    "name": "ipython",
    "version": 3
   },
   "file_extension": ".py",
   "mimetype": "text/x-python",
   "name": "python",
   "nbconvert_exporter": "python",
   "pygments_lexer": "ipython3",
   "version": "3.12.6"
  }
 },
 "nbformat": 4,
 "nbformat_minor": 4
}
